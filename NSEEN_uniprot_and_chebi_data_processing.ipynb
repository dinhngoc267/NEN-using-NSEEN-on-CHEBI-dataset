{
  "nbformat": 4,
  "nbformat_minor": 0,
  "metadata": {
    "colab": {
      "name": "NSEEN_uniprot_and_chebi_data_processing.ipynb",
      "provenance": [],
      "collapsed_sections": []
    },
    "kernelspec": {
      "display_name": "Python 3",
      "name": "python3"
    }
  },
  "cells": [
    {
      "cell_type": "markdown",
      "metadata": {
        "id": "MBFxz0FwuZNM"
      },
      "source": [
        "Tạo 2 file references: \r\n",
        "* chebi_reference.tsv\r\n",
        "* uniprot_reference.tsv\r\n",
        "\r\n",
        "Tạo 2 file query sets:\r\n",
        "* chebi_query_set.tsv\r\n",
        "* uniprot_query_set.tsv"
      ]
    },
    {
      "cell_type": "code",
      "metadata": {
        "colab": {
          "base_uri": "https://localhost:8080/"
        },
        "id": "L9DI04vv_HcA",
        "outputId": "37e12f5f-1266-47a6-8616-7f2641ec351e"
      },
      "source": [
        "from google.colab import drive\r\n",
        "drive.mount('/content/drive')"
      ],
      "execution_count": null,
      "outputs": [
        {
          "output_type": "stream",
          "text": [
            "Drive already mounted at /content/drive; to attempt to forcibly remount, call drive.mount(\"/content/drive\", force_remount=True).\n"
          ],
          "name": "stdout"
        }
      ]
    },
    {
      "cell_type": "code",
      "metadata": {
        "colab": {
          "base_uri": "https://localhost:8080/"
        },
        "id": "zne7eFT3A7Ch",
        "outputId": "e50b743c-3439-469e-e0ec-1ca33a1c69f4"
      },
      "source": [
        "# for reading obo file\r\n",
        "!pip install obonet"
      ],
      "execution_count": null,
      "outputs": [
        {
          "output_type": "stream",
          "text": [
            "Requirement already satisfied: obonet in /usr/local/lib/python3.6/dist-packages (0.2.6)\n",
            "Requirement already satisfied: networkx in /usr/local/lib/python3.6/dist-packages (from obonet) (2.5)\n",
            "Requirement already satisfied: decorator>=4.3.0 in /usr/local/lib/python3.6/dist-packages (from networkx->obonet) (4.4.2)\n"
          ],
          "name": "stdout"
        }
      ]
    },
    {
      "cell_type": "markdown",
      "metadata": {
        "id": "Wp5NgWRHykGd"
      },
      "source": [
        "GET CHEBI REFERENCE"
      ]
    },
    {
      "cell_type": "code",
      "metadata": {
        "id": "_JSj4TThC7Aq"
      },
      "source": [
        "import networkx\r\n",
        "import obonet\r\n",
        "import re\r\n",
        "# Read the taxrank ontology\r\n",
        "url = \"/content/drive/MyDrive/chebi.obo\"\r\n",
        "graph = obonet.read_obo(url)\r\n",
        "\r\n",
        "chebi_reference_set = {}\r\n",
        "for node in graph.nodes(data=True):\r\n",
        "  if node[1].get('subset') is not None:\r\n",
        "    if node[1].get('subset')[0] == '3_STAR':\r\n",
        "      \r\n",
        "      terms = []\r\n",
        "      \r\n",
        "      id = node[0].split(':')[1]\r\n",
        "      name = node[1].get('name')\r\n",
        "\r\n",
        "      terms.append(name)\r\n",
        "      if name is None: \r\n",
        "        continue\r\n",
        "\r\n",
        "      is_obsolete = node[1].get('is_obsolete')\r\n",
        "      if(is_obsolete is not None):\r\n",
        "        print(id)\r\n",
        "      ls = node[1].get('synonym')\r\n",
        "      if ls is not None:\r\n",
        "        for synonym in ls:\r\n",
        "          term = re.findall(r'[\"](.*?)[\"]',synonym)\r\n",
        "          if len(term) > 0:\r\n",
        "            term = term[0]        \r\n",
        "            if term != name:\r\n",
        "              if term == \"\" or term is None:\r\n",
        "                print('y')\r\n",
        "              terms.append(term)\r\n",
        "\r\n",
        "      str_terms = \"\"\r\n",
        "      for term in terms:\r\n",
        "        if term is None:\r\n",
        "          print('y')\r\n",
        "        str_terms = str_terms + term + '\\t'\r\n",
        "\r\n",
        "      str_terms = str_terms[:-1]\r\n",
        "      chebi_reference_set[id] = str_terms\r\n"
      ],
      "execution_count": null,
      "outputs": []
    },
    {
      "cell_type": "code",
      "metadata": {
        "colab": {
          "base_uri": "https://localhost:8080/"
        },
        "id": "J4z7jGpP0um2",
        "outputId": "19993a93-478b-4488-8962-ca84737b631e"
      },
      "source": [
        "len(chebi_reference_set)"
      ],
      "execution_count": null,
      "outputs": [
        {
          "output_type": "execute_result",
          "data": {
            "text/plain": [
              "58597"
            ]
          },
          "metadata": {
            "tags": []
          },
          "execution_count": 6
        }
      ]
    },
    {
      "cell_type": "code",
      "metadata": {
        "id": "S5kROJCYhkba"
      },
      "source": [
        "chebi_reference_set"
      ],
      "execution_count": null,
      "outputs": []
    },
    {
      "cell_type": "markdown",
      "metadata": {
        "id": "79lSkegOyoNN"
      },
      "source": [
        "GET UNIPROT REFERENCE"
      ]
    },
    {
      "cell_type": "code",
      "metadata": {
        "id": "JRzwy11WyqXC"
      },
      "source": [
        "myFile= open(\"/content/drive/My Drive/NSEEN/uniprot-reviewed_yes.tab\")\r\n",
        "uniprot_reference_set = {}\r\n",
        "for aRow in myFile:\r\n",
        "  aRow = list(aRow.split('\\t'))  \r\n",
        "  \r\n",
        "  terms = aRow[3].split(' (')\r\n",
        "  for i,tmp in enumerate(terms):\r\n",
        "    if tmp[-1] == ')':\r\n",
        "      terms[i] = tmp[:-1]\r\n",
        "  \r\n",
        "  str_terms = \"\"\r\n",
        "\r\n",
        "  for term in terms:\r\n",
        "    str_terms = str_terms + term + '\\t'\r\n",
        "  str_terms = str_terms[:-1]\r\n",
        "  uniprot_reference_set[aRow[0]] = str_terms \r\n",
        "\r\n",
        "myFile.close()"
      ],
      "execution_count": null,
      "outputs": []
    },
    {
      "cell_type": "markdown",
      "metadata": {
        "id": "LbWlPPhLU1OG"
      },
      "source": [
        "GET QUERY SET"
      ]
    },
    {
      "cell_type": "code",
      "metadata": {
        "colab": {
          "background_save": true
        },
        "id": "WOdE43KRHexI"
      },
      "source": [
        "import xml.etree.ElementTree as ET\r\n",
        "import os\r\n",
        "trees = []; #id in these file is int\r\n",
        "\r\n",
        "dir = '/content/drive/My Drive/NSEEN/BioIDtraining_2/caption_bioc'\r\n",
        "training_data = []\r\n",
        "for fname in sorted(os.listdir(dir)): \r\n",
        "  if fname[-4:] == '.xml' and fname[0:2] != '._': \r\n",
        "    trees.append(ET.parse(os.path.join(dir,fname)))\r\n",
        "    \r\n",
        "for tree in trees: \r\n",
        "  root = tree.getroot() \r\n",
        "\r\n",
        "  for document in root.iter('document'):\r\n",
        "      for passage in document.iter('passage'):\r\n",
        "        for annotation in passage.iter('annotation'):\r\n",
        "          term_type = annotation[0].text\r\n",
        "          if \"CHEBI\" in term_type or \"Uniprot\" in term_type:\r\n",
        "            text = annotation[-1].text\r\n",
        "\r\n",
        "            term = {}\r\n",
        "            term[text] = term_type\r\n",
        "            training_data.append(term)"
      ],
      "execution_count": null,
      "outputs": []
    },
    {
      "cell_type": "code",
      "metadata": {
        "id": "TaL5wjQ6zNa3"
      },
      "source": [
        "chebi_query_set = {}\r\n",
        "\r\n",
        "# 1 term có thể thuộc nhiều ID\r\n",
        "for term in training_data:\r\n",
        "  for key, value in term.items():\r\n",
        "    if 'CHEBI' in value:\r\n",
        "      IDs = value.split('|')\r\n",
        "      for i,ID in enumerate(IDs):\r\n",
        "        IDs[i] = ID[ID.find(':')+1:]\r\n",
        "\r\n",
        "      str_ID = \"\"\r\n",
        "      for ID in IDs:\r\n",
        "        str_ID = str_ID + ID + '\\t'\r\n",
        "      str_ID = str_ID[:-1]\r\n",
        "      chebi_query_set[key] = str_ID"
      ],
      "execution_count": null,
      "outputs": []
    },
    {
      "cell_type": "code",
      "metadata": {
        "id": "heg6fLzP7PwK"
      },
      "source": [
        "uniprot_query_set = {}\r\n",
        "for term in training_data:\r\n",
        "  for key, value in term.items():\r\n",
        "    if 'Uniprot' in value:\r\n",
        "      IDs = value.split('|')\r\n",
        "      for i,ID in enumerate(IDs):\r\n",
        "        IDs[i] = ID[ID.find(':')+1:]\r\n",
        "\r\n",
        "      str_ID = \"\"\r\n",
        "      for ID in IDs:\r\n",
        "        str_ID = str_ID + ID + '\\t'\r\n",
        "      \r\n",
        "      str_ID = str_ID[:-1]\r\n",
        "      \r\n",
        "      uniprot_query_set[key] = str_ID"
      ],
      "execution_count": null,
      "outputs": []
    },
    {
      "cell_type": "markdown",
      "metadata": {
        "id": "ckun6aL08Tbc"
      },
      "source": [
        "RESULT"
      ]
    },
    {
      "cell_type": "code",
      "metadata": {
        "colab": {
          "base_uri": "https://localhost:8080/"
        },
        "id": "cZIOgkfZ8VFr",
        "outputId": "b9f6a179-3589-4627-9449-7ea3d70a0a4f"
      },
      "source": [
        "print('Kich thuoc chebi_reference_set: ', len(chebi_reference_set))\r\n",
        "print('Kich thuoc uniprot_reference_set: ', len(uniprot_reference_set))\r\n",
        "print('Kich thuoc chebi_query_set: ', len(chebi_query_set))\r\n",
        "print('Kich thuoc uniprot_query_set: ', len(uniprot_query_set))"
      ],
      "execution_count": null,
      "outputs": [
        {
          "output_type": "stream",
          "text": [
            "Kich thuoc chebi_reference_set:  136609\n",
            "Kich thuoc uniprot_reference_set:  563973\n",
            "Kich thuoc chebi_query_set:  1296\n",
            "Kich thuoc uniprot_query_set:  2746\n"
          ],
          "name": "stdout"
        }
      ]
    },
    {
      "cell_type": "markdown",
      "metadata": {
        "id": "230f5i2L79Dd"
      },
      "source": [
        "SAVE RESULT"
      ]
    },
    {
      "cell_type": "code",
      "metadata": {
        "id": "49-2Epu_prnH"
      },
      "source": [
        "def save_dict_to_file(dictionary, dir):\r\n",
        "  with open(dir, 'w') as f:\r\n",
        "    for key in dictionary.keys():\r\n",
        "      f.write(\"%s: %s\\n\" % (key,  dictionary[key]))"
      ],
      "execution_count": null,
      "outputs": []
    },
    {
      "cell_type": "code",
      "metadata": {
        "id": "Aw-iskRHj5GK"
      },
      "source": [
        "save_dict_to_file(chebi_reference_set, '/content/drive/My Drive/chebi_reference_set.tsv')\r\n"
      ],
      "execution_count": null,
      "outputs": []
    },
    {
      "cell_type": "code",
      "metadata": {
        "id": "F0rjJRGOpt3O"
      },
      "source": [
        "save_dict_to_file(chebi_reference_set, '/content/drive/My Drive/chebi_reference_set.tsv')\r\n",
        "save_dict_to_file(uniprot_reference_set, '/content/drive/My Drive/uniprot_reference_set.tsv')\r\n",
        "save_dict_to_file(chebi_query_set, '/content/drive/My Drive/chebi_query_set.tsv')\r\n",
        "save_dict_to_file(uniprot_query_set, '/content/drive/My Drive/uniprot_query_set.tsv')"
      ],
      "execution_count": null,
      "outputs": []
    },
    {
      "cell_type": "code",
      "metadata": {
        "colab": {
          "base_uri": "https://localhost:8080/"
        },
        "id": "5QSTzloW_yHm",
        "outputId": "41f46b37-f399-4629-d387-e1b723bfe8ca"
      },
      "source": [
        "count = 0\r\n",
        "for key in chebi_query_set.keys():\r\n",
        "  IDs = chebi_query_set[key]\r\n",
        "  IDs = IDs.split('\\t')\r\n",
        "\r\n",
        "  for ID in IDs:\r\n",
        "    if ID in chebi_reference_set.keys():\r\n",
        "      if key in chebi_reference_set[ID]:\r\n",
        "        count += 1\r\n",
        "        break\r\n",
        "print(count)"
      ],
      "execution_count": null,
      "outputs": [
        {
          "output_type": "stream",
          "text": [
            "634\n"
          ],
          "name": "stdout"
        }
      ]
    },
    {
      "cell_type": "markdown",
      "metadata": {
        "id": "Aq8UFc9JoBCg"
      },
      "source": [
        "##EDA"
      ]
    },
    {
      "cell_type": "markdown",
      "metadata": {
        "id": "W7_UmAUXoEAN"
      },
      "source": [
        "####CHEBI"
      ]
    },
    {
      "cell_type": "code",
      "metadata": {
        "id": "wH3zE8Zjl15q"
      },
      "source": [
        "IDs = []\r\n",
        "n_matchstring = []\r\n",
        "for key,values in chebi_query_set.items():\r\n",
        "  ID_arr = values.split('\\t')\r\n",
        "  for ID in ID_arr:\r\n",
        "    IDs.append(ID)"
      ],
      "execution_count": null,
      "outputs": []
    },
    {
      "cell_type": "code",
      "metadata": {
        "colab": {
          "base_uri": "https://localhost:8080/"
        },
        "id": "iLuSaPwbpekz",
        "outputId": "475ad584-cb93-4c56-d04c-be11e4de1a4d"
      },
      "source": [
        "print('Number of query is: ', len(chebi_query_set))\r\n",
        "print('Number of unique query is:', len(set(IDs)))"
      ],
      "execution_count": null,
      "outputs": [
        {
          "output_type": "stream",
          "text": [
            "Number of query is:  1296\n",
            "Number of unique query is: 748\n"
          ],
          "name": "stdout"
        }
      ]
    },
    {
      "cell_type": "code",
      "metadata": {
        "colab": {
          "base_uri": "https://localhost:8080/"
        },
        "id": "d7sT_5m8ohjg",
        "outputId": "cad2e1f4-84ee-491b-ad66-76a221830274"
      },
      "source": [
        "n_match = 0\r\n",
        "for key in chebi_query_set.keys():\r\n",
        "  for values in chebi_reference_set.values():\r\n",
        "    values = values.split('\\t')\r\n",
        "    flag = False\r\n",
        "    for value in values:\r\n",
        "      if value == key:\r\n",
        "        n_match += 1\r\n",
        "        flag = True\r\n",
        "        break\r\n",
        "    if flag == True:\r\n",
        "      break\r\n",
        "print(n_match)"
      ],
      "execution_count": null,
      "outputs": [
        {
          "output_type": "stream",
          "text": [
            "673\n"
          ],
          "name": "stdout"
        }
      ]
    },
    {
      "cell_type": "code",
      "metadata": {
        "id": "wnRDMcILp-EH"
      },
      "source": [
        ""
      ],
      "execution_count": null,
      "outputs": []
    }
  ]
}